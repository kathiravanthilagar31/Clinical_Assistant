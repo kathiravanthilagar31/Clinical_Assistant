{
 "cells": [
  {
   "cell_type": "code",
   "execution_count": 16,
   "id": "a918814b",
   "metadata": {},
   "outputs": [],
   "source": [
    "import os\n",
    "from llama_index.core import SimpleDirectoryReader, VectorStoreIndex\n",
    "from llama_index.core.node_parser import SentenceSplitter"
   ]
  },
  {
   "cell_type": "code",
   "execution_count": 17,
   "id": "c45c914b",
   "metadata": {},
   "outputs": [],
   "source": [
    "def load_data(filepath):\n",
    "    docs=SimpleDirectoryReader(filepath).load_data()\n",
    "    parser=SentenceSplitter(chunk_size=500,chunk_overlap=20)\n",
    "    chunks=parser.get_nodes_from_documents(docs)\n",
    "    return chunks"
   ]
  },
  {
   "cell_type": "code",
   "execution_count": 21,
   "id": "d403868c",
   "metadata": {},
   "outputs": [],
   "source": [
    "chunks=load_data('data')"
   ]
  },
  {
   "cell_type": "code",
   "execution_count": 23,
   "id": "9c1c70f2",
   "metadata": {},
   "outputs": [],
   "source": [
    "from llama_index.embeddings.huggingface import HuggingFaceEmbedding\n",
    "from llama_index.core import StorageContext,Settings\n",
    "import chromadb\n",
    "from llama_index.vector_stores.chroma import ChromaVectorStore"
   ]
  },
  {
   "cell_type": "code",
   "execution_count": 24,
   "id": "c3a99a74",
   "metadata": {},
   "outputs": [],
   "source": [
    "def vector_store(chunks):\n",
    "    embed_model=HuggingFaceEmbedding(model_name=\"BAAI/bge-small-en-v1.5\")\n",
    "    Settings.embed_model=embed_model\n",
    "    \n",
    "    db=chromadb.PersistentClient(path=\"./chroma_db\")\n",
    "    chroma_collection=db.get_or_create_collection(\"clinical_data\")\n",
    "    \n",
    "    vectorstore=ChromaVectorStore(chroma_collection=chroma_collection)\n",
    "    \n",
    "    Storage=StorageContext.from_defaults(vector_store=vectorstore)\n",
    "    index=VectorStoreIndex.from_documents(documents=chunks,storage_context=Storage)\n",
    "    return index"
   ]
  },
  {
   "cell_type": "code",
   "execution_count": 26,
   "id": "12afd757",
   "metadata": {},
   "outputs": [],
   "source": [
    "index=vector_store(chunks)"
   ]
  },
  {
   "cell_type": "code",
   "execution_count": 10,
   "id": "db601f2d",
   "metadata": {},
   "outputs": [],
   "source": [
    "embed_model=HuggingFaceEmbedding(model_name=\"BAAI/bge-small-en-v1.5\")\n",
    "Settings.embed_model=embed_model\n",
    "db=chromadb.PersistentClient(path=\"./chroma_db\")\n",
    "chroma_collection=db.get_or_create_collection(\"clinical_data\")\n",
    "vector_store=ChromaVectorStore(chroma_collection=chroma_collection)\n",
    "Storage=StorageContext.from_defaults(vector_store=vector_store)\n",
    "index=VectorStoreIndex.from_vector_store(vector_store)"
   ]
  },
  {
   "cell_type": "code",
   "execution_count": 11,
   "id": "80c956eb",
   "metadata": {},
   "outputs": [
    {
     "data": {
      "application/vnd.jupyter.widget-view+json": {
       "model_id": "e9c59f5463f14d47a6b2b8e4efe40104",
       "version_major": 2,
       "version_minor": 0
      },
      "text/plain": [
       "model.safetensors:   0%|          | 0.00/2.47G [00:00<?, ?B/s]"
      ]
     },
     "metadata": {},
     "output_type": "display_data"
    },
    {
     "name": "stderr",
     "output_type": "stream",
     "text": [
      "d:\\Anaconda3\\envs\\medicalasst\\lib\\site-packages\\huggingface_hub\\file_download.py:143: UserWarning: `huggingface_hub` cache-system uses symlinks by default to efficiently store duplicated files but your machine does not support them in C:\\Users\\kathi\\.cache\\huggingface\\hub\\models--meta-llama--Llama-3.2-1B. Caching files will still work but in a degraded version that might require more space on your disk. This warning can be disabled by setting the `HF_HUB_DISABLE_SYMLINKS_WARNING` environment variable. For more details, see https://huggingface.co/docs/huggingface_hub/how-to-cache#limitations.\n",
      "To support symlinks on Windows, you either need to activate Developer Mode or to run Python as an administrator. In order to activate developer mode, see this article: https://docs.microsoft.com/en-us/windows/apps/get-started/enable-your-device-for-development\n",
      "  warnings.warn(message)\n"
     ]
    },
    {
     "data": {
      "application/vnd.jupyter.widget-view+json": {
       "model_id": "5eeb0a5e2f2946a28311a5444988afa6",
       "version_major": 2,
       "version_minor": 0
      },
      "text/plain": [
       "generation_config.json:   0%|          | 0.00/185 [00:00<?, ?B/s]"
      ]
     },
     "metadata": {},
     "output_type": "display_data"
    },
    {
     "data": {
      "application/vnd.jupyter.widget-view+json": {
       "model_id": "1f8d283d6c824aa383654ab6b5695709",
       "version_major": 2,
       "version_minor": 0
      },
      "text/plain": [
       "tokenizer_config.json:   0%|          | 0.00/50.5k [00:00<?, ?B/s]"
      ]
     },
     "metadata": {},
     "output_type": "display_data"
    },
    {
     "data": {
      "application/vnd.jupyter.widget-view+json": {
       "model_id": "4693c6ee033b4055a4673fe8093a8bdf",
       "version_major": 2,
       "version_minor": 0
      },
      "text/plain": [
       "tokenizer.json:   0%|          | 0.00/9.09M [00:00<?, ?B/s]"
      ]
     },
     "metadata": {},
     "output_type": "display_data"
    },
    {
     "data": {
      "application/vnd.jupyter.widget-view+json": {
       "model_id": "5922bfa30ee74062bb2a1f4915e228f7",
       "version_major": 2,
       "version_minor": 0
      },
      "text/plain": [
       "special_tokens_map.json:   0%|          | 0.00/301 [00:00<?, ?B/s]"
      ]
     },
     "metadata": {},
     "output_type": "display_data"
    }
   ],
   "source": [
    "from llama_index.llms.huggingface import HuggingFaceLLM\n",
    "import torch\n",
    "import torch.cuda\n",
    "\n",
    "llm_model=HuggingFaceLLM(\n",
    "    model_name=\"meta-llama/Llama-3.2-1B\",\n",
    "    tokenizer_name=\"meta-llama/Llama-3.2-1B\",\n",
    "    context_window=8192,\n",
    "    device_map=\"auto\",\n",
    "    model_kwargs={\"torch_dtype\":torch.bfloat16}\n",
    ")\n",
    "Settings.llm=llm_model"
   ]
  },
  {
   "cell_type": "code",
   "execution_count": 27,
   "id": "98539394",
   "metadata": {},
   "outputs": [
    {
     "name": "stderr",
     "output_type": "stream",
     "text": [
      "Setting `pad_token_id` to `eos_token_id`:128001 for open-end generation.\n"
     ]
    },
    {
     "name": "stdout",
     "output_type": "stream",
     "text": [
      "1. Headache\n",
      "2. Nausea\n",
      "3. Fatigue\n",
      "4. Dizziness\n",
      "5. Drowsiness\n",
      "6. Loss of appetite\n",
      "7. Swelling of the face, lips, tongue, throat, arms, legs, hands, or feet\n",
      "8. Itchy skin\n",
      "9. Sudden breathing or swallowing problems\n",
      "10. Chest pain\n",
      "11. Hoarseness\n",
      "12. Stomach pain\n",
      "13. Yellow eyes or skin\n",
      "14. Yellowing of the skin or white of the eyes\n",
      "15. Weak or heavy feeling in the legs\n",
      "16. Skin rash\n",
      "17. Irregular heartbeat\n",
      "18. Shortness of breath or other breathing problems\n",
      "19. Joint pain\n",
      "20. Numbness or tingling in hands, feet, or lips\n",
      "21. Weakness\n",
      "22. Irritation of the throat\n",
      "23. Frequent urge to urinate\n",
      "24. Fever and chills\n",
      "25. Difficulty swallowing\n",
      "26. Difficulty breathing\n",
      "27. Hives\n",
      "28. Swelling of the hands, ankles, feet, or lower legs\n",
      "29. Fluid retention\n",
      "30. Loss of sexual ability\n",
      "31. Dizziness\n",
      "32. Abnormal heart rhythm\n",
      "33. Severe allergic reaction\n",
      "34. Un\n"
     ]
    }
   ],
   "source": [
    "query_engine=index.as_query_engine(similarity_top_k=3)\n",
    "response=query_engine.query(\"What are the side effects of Lisinopril?\")\n",
    "print(response)"
   ]
  },
  {
   "cell_type": "code",
   "execution_count": null,
   "id": "1a9e9d00",
   "metadata": {},
   "outputs": [],
   "source": []
  }
 ],
 "metadata": {
  "kernelspec": {
   "display_name": "medicalasst",
   "language": "python",
   "name": "python3"
  },
  "language_info": {
   "codemirror_mode": {
    "name": "ipython",
    "version": 3
   },
   "file_extension": ".py",
   "mimetype": "text/x-python",
   "name": "python",
   "nbconvert_exporter": "python",
   "pygments_lexer": "ipython3",
   "version": "3.10.18"
  }
 },
 "nbformat": 4,
 "nbformat_minor": 5
}
